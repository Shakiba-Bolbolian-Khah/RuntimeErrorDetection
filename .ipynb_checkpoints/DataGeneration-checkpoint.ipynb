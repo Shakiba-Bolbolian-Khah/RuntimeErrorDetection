{
 "cells": [
  {
   "cell_type": "code",
   "execution_count": 1,
   "id": "governmental-hollow",
   "metadata": {},
   "outputs": [],
   "source": [
    "import itertools\n",
    "import csv\n",
    "import random"
   ]
  },
  {
   "cell_type": "code",
   "execution_count": 6,
   "id": "bulgarian-selection",
   "metadata": {},
   "outputs": [],
   "source": [
    "def generateFuncCalls():\n",
    "    funcCalls = ['b0', 'b1', 'b2', 'b3']\n",
    "    callPerms = []\n",
    "    finalCalls = []\n",
    "    for permutation in itertools.permutations(funcCalls,2):\n",
    "        callPerms.append(permutation)\n",
    "    for permutation in itertools.permutations(callPerms,4):\n",
    "        finalCalls.append(permutation)\n",
    "    \n",
    "    return(finalCalls)\n",
    "\n",
    "def writeCode(callables):\n",
    "    t = ''\n",
    "    for c in range(len(callables)):\n",
    "        t += '\\tA a' + str(c) + '(' + callables[c][0]+ ', ' + callables[c][1] + '):();\\n'\n",
    "    return t\n",
    "\n",
    "def prepareRow( c, index):\n",
    "    row = [index,]\n",
    "    num = {0: 0, 1: 0, 2: 0, 3: 0}\n",
    "    for i in [0,1]:\n",
    "        for j in range(len(c)):\n",
    "            row.append(int(c[j][i][-1]))\n",
    "            num[int(c[j][i][-1])] += 1\n",
    "\n",
    "    for i in range(0,4):\n",
    "        row.append(num[i])\n",
    "    return(row)"
   ]
  },
  {
   "cell_type": "code",
   "execution_count": 9,
   "id": "reliable-think",
   "metadata": {},
   "outputs": [],
   "source": [
    "callables = generateFuncCalls()\n",
    "random.shuffle(callables)\n",
    "header = ['Index', 'Call_1', 'Call_2', 'Call_3', 'Call_4', 'Call_5', 'Call_6', 'Call_7', 'Call_8', 'Func_Call_1', 'Func_Call_2', 'Func_Call_3', 'Func_Call_4', 'Deadlock']\n",
    "index = 1\n",
    "\n",
    "with open('./Dataset.csv', 'w', encoding='UTF8', newline='') as f:\n",
    "    \n",
    "    writer = csv.writer(f)\n",
    "    writer.writerow(header)\n",
    "    for c in callables:\n",
    "        file = open('./Samples/' + str(index) + '.rebeca', 'w') \n",
    "        file.write(writeCode(c))\n",
    "        writer.writerow(prepareRow(c, index))\n",
    "        file.close()\n",
    "        index += 1\n",
    "    "
   ]
  }
 ],
 "metadata": {
  "kernelspec": {
   "display_name": "Python 3",
   "language": "python",
   "name": "python3"
  },
  "language_info": {
   "codemirror_mode": {
    "name": "ipython",
    "version": 3
   },
   "file_extension": ".py",
   "mimetype": "text/x-python",
   "name": "python",
   "nbconvert_exporter": "python",
   "pygments_lexer": "ipython3",
   "version": "3.8.10"
  }
 },
 "nbformat": 4,
 "nbformat_minor": 5
}
